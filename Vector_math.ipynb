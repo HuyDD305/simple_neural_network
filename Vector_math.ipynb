{
 "cells": [
  {
   "cell_type": "code",
   "id": "initial_id",
   "metadata": {
    "collapsed": true,
    "jupyter": {
     "outputs_hidden": true
    },
    "ExecuteTime": {
     "end_time": "2025-05-14T16:20:55.901870Z",
     "start_time": "2025-05-14T16:20:55.898386Z"
    }
   },
   "source": [
    "toes = [8.5, 9.5, 9.9, 9.0]\n",
    "wlrec = [0.65, 0.8, 0.8, 0.9]\n",
    "nfans = [1.2, 1.3, 0.5, 1.0, 6.5]"
   ],
   "outputs": [],
   "execution_count": 27
  },
  {
   "metadata": {
    "ExecuteTime": {
     "end_time": "2025-05-14T16:20:55.915830Z",
     "start_time": "2025-05-14T16:20:55.905306Z"
    }
   },
   "cell_type": "code",
   "source": [
    "def elementwise_addition(vec_a, vec_b):\n",
    "    vec_sum = []\n",
    "    if len(vec_a) == len(vec_b):\n",
    "        for i in range(len(vec_a)):\n",
    "            vec_sum.append(vec_a[i] + vec_b[i])\n",
    "        return vec_sum"
   ],
   "id": "66d998165a46d635",
   "outputs": [],
   "execution_count": 28
  },
  {
   "metadata": {
    "ExecuteTime": {
     "end_time": "2025-05-14T16:20:55.929444Z",
     "start_time": "2025-05-14T16:20:55.925451Z"
    }
   },
   "cell_type": "code",
   "source": [
    "def elementwise_multiplication(vec_a, vec_b):\n",
    "    vec_sum = []\n",
    "    if len(vec_a) != len(vec_b):\n",
    "        raise ValueError(\"Vectors must be the same length\")\n",
    "    for i in range(len(vec_a)):\n",
    "        vec_sum.append(vec_a[i] * vec_b[i])\n",
    "    return vec_sum"
   ],
   "id": "78f155d9577141d8",
   "outputs": [],
   "execution_count": 29
  },
  {
   "metadata": {
    "ExecuteTime": {
     "end_time": "2025-05-14T16:20:55.937831Z",
     "start_time": "2025-05-14T16:20:55.934451Z"
    }
   },
   "cell_type": "code",
   "source": [
    "def vector_sum(vec_a):\n",
    "    vec_sum = 0\n",
    "    for i in range(len(vec_a)):\n",
    "        vec_sum += vec_a[i]\n",
    "    return vec_sum"
   ],
   "id": "377b20e148a2fe5d",
   "outputs": [],
   "execution_count": 30
  },
  {
   "metadata": {
    "ExecuteTime": {
     "end_time": "2025-05-14T16:20:55.947275Z",
     "start_time": "2025-05-14T16:20:55.944378Z"
    }
   },
   "cell_type": "code",
   "source": [
    "def vector_average(vec_a):\n",
    "    result = vector_sum(vec_a) / len(vec_a)\n",
    "    return result"
   ],
   "id": "debbc8e4c84ce5cb",
   "outputs": [],
   "execution_count": 31
  },
  {
   "metadata": {
    "ExecuteTime": {
     "end_time": "2025-05-14T16:20:55.958606Z",
     "start_time": "2025-05-14T16:20:55.954601Z"
    }
   },
   "cell_type": "code",
   "source": [
    "def dot_product(vec_a, vec_b):\n",
    "    if len(vec_a) != len(vec_b):\n",
    "        raise ValueError(\"Vector must be same length\")\n",
    "    mul_result = elementwise_multiplication(vec_a, vec_b)\n",
    "    return vector_sum(mul_result)"
   ],
   "id": "ad6f66a340e77397",
   "outputs": [],
   "execution_count": 32
  },
  {
   "metadata": {
    "ExecuteTime": {
     "end_time": "2025-05-14T16:20:55.971642Z",
     "start_time": "2025-05-14T16:20:55.965171Z"
    }
   },
   "cell_type": "code",
   "source": [
    "if __name__ == \"__main__\":\n",
    "    print(f\"Additon: {elementwise_addition(toes, wlrec)}\")\n",
    "    print(f\"Multiplication: {elementwise_multiplication(toes, wlrec)}\")\n",
    "    print(f\"vector_sum: {vector_sum(toes)}\")\n",
    "    print(f\"vector_average: {vector_average(toes)}\")\n",
    "    print(f\"dot_product: {dot_product(toes, wlrec)}\")"
   ],
   "id": "badef1b15ee6b168",
   "outputs": [
    {
     "name": "stdout",
     "output_type": "stream",
     "text": [
      "Additon: [9.15, 10.3, 10.700000000000001, 9.9]\n",
      "Multiplication: [5.525, 7.6000000000000005, 7.920000000000001, 8.1]\n",
      "vector_sum: 36.9\n",
      "vector_average: 9.225\n",
      "dot_product: 29.145000000000003\n"
     ]
    }
   ],
   "execution_count": 33
  },
  {
   "metadata": {
    "ExecuteTime": {
     "end_time": "2025-05-14T16:20:55.980531Z",
     "start_time": "2025-05-14T16:20:55.977166Z"
    }
   },
   "cell_type": "code",
   "source": "",
   "id": "e6e5e88dc9258f85",
   "outputs": [],
   "execution_count": null
  }
 ],
 "metadata": {
  "kernelspec": {
   "display_name": "Python 3 (ipykernel)",
   "language": "python",
   "name": "python3"
  },
  "language_info": {
   "codemirror_mode": {
    "name": "ipython",
    "version": 3
   },
   "file_extension": ".py",
   "mimetype": "text/x-python",
   "name": "python",
   "nbconvert_exporter": "python",
   "pygments_lexer": "ipython3",
   "version": "3.12.5"
  }
 },
 "nbformat": 4,
 "nbformat_minor": 5
}
