{
 "cells": [
  {
   "cell_type": "markdown",
   "id": "8a77807f92f26ee",
   "metadata": {},
   "source": [
    "# This is a sample Jupyter Notebook\n",
    "\n",
    "Below is an example of a code cell. \n",
    "Put your cursor into the cell and press Shift+Enter to execute it and select the next one, or click 'Run Cell' button.\n",
    "\n",
    "Press Double Shift to search everywhere for classes, files, tool windows, actions, and settings.\n",
    "\n",
    "To learn more about Jupyter Notebooks in PyCharm, see [help](https://www.jetbrains.com/help/pycharm/ipython-notebook-support.html).\n",
    "For an overview of PyCharm, go to Help -> Learn IDE features or refer to [our documentation](https://www.jetbrains.com/help/pycharm/getting-started.html)."
   ]
  },
  {
   "cell_type": "code",
   "execution_count": 7,
   "id": "fbc121e30a2defb3",
   "metadata": {
    "ExecuteTime": {
     "end_time": "2025-05-14T07:44:54.658096Z",
     "start_time": "2025-05-14T07:44:54.646865Z"
    }
   },
   "outputs": [],
   "source": [
    "# weight = 0.1\n",
    "# def neural_network(input, weight) :\n",
    "#     prediction = input * weight\n",
    "#     return prediction\n",
    "\n",
    "\n"
   ]
  },
  {
   "cell_type": "code",
   "execution_count": 8,
   "id": "9bf604164069ba72",
   "metadata": {
    "ExecuteTime": {
     "end_time": "2025-05-14T07:44:56.390022Z",
     "start_time": "2025-05-14T07:44:56.380620Z"
    }
   },
   "outputs": [
    {
     "name": "stdout",
     "output_type": "stream",
     "text": [
      "0.8500000000000001\n"
     ]
    }
   ],
   "source": [
    "# number_of_toes = [8.5, 9.5, 10, 8]\n",
    "# input = number_of_toes[0]\n",
    "# pred = neural_network(input, weight)\n",
    "# print(pred)"
   ]
  },
  {
   "cell_type": "code",
   "execution_count": 1,
   "id": "7541debf-e5b8-4055-b67c-385624f886ff",
   "metadata": {
    "ExecuteTime": {
     "end_time": "2025-05-14T08:02:54.779102Z",
     "start_time": "2025-05-14T08:02:54.757817Z"
    }
   },
   "outputs": [],
   "source": [
    "weights = [0.1, 0.2, 0]\n",
    "def neural_network(input, weights):\n",
    "    pred = w_sum(input, weights)\n",
    "    return pred"
   ]
  },
  {
   "cell_type": "code",
   "execution_count": 2,
   "id": "76d6758cae06f762",
   "metadata": {
    "ExecuteTime": {
     "end_time": "2025-05-14T08:02:56.455890Z",
     "start_time": "2025-05-14T08:02:56.447984Z"
    }
   },
   "outputs": [],
   "source": [
    "def w_sum(a, b):\n",
    "    assert(len(a) == len(b))\n",
    "    output = 0\n",
    "    for i in range(len(a)):\n",
    "        output += (a[i] * b[i])\n",
    "    return output"
   ]
  },
  {
   "cell_type": "code",
   "execution_count": 3,
   "id": "24e36f4b8517f18",
   "metadata": {
    "ExecuteTime": {
     "end_time": "2025-05-14T08:04:17.696053Z",
     "start_time": "2025-05-14T08:04:17.680552Z"
    }
   },
   "outputs": [
    {
     "name": "stdout",
     "output_type": "stream",
     "text": [
      "0.9800000000000001\n"
     ]
    }
   ],
   "source": [
    "toes = [8.5, 9.5, 9.9, 9.0]\n",
    "wlrec = [0.65, 0.8, 0.8, 0.9]\n",
    "nfans = [1.2, 1.3, 0.5, 1.0]\n",
    "\n",
    "\n",
    "\n",
    "input = [toes[0], wlrec[0], nfans[0]]\n",
    "pred = neural_network(input, weights)\n",
    "print(pred)"
   ]
  },
  {
   "cell_type": "code",
   "execution_count": null,
   "id": "e8fdfb7e-1dfa-45fc-a3f0-9f8abd4c73b0",
   "metadata": {},
   "outputs": [],
   "source": []
  }
 ],
 "metadata": {
  "kernelspec": {
   "display_name": "Python 3 (ipykernel)",
   "language": "python",
   "name": "python3"
  },
  "language_info": {
   "codemirror_mode": {
    "name": "ipython",
    "version": 3
   },
   "file_extension": ".py",
   "mimetype": "text/x-python",
   "name": "python",
   "nbconvert_exporter": "python",
   "pygments_lexer": "ipython3",
   "version": "3.12.4"
  }
 },
 "nbformat": 4,
 "nbformat_minor": 5
}
